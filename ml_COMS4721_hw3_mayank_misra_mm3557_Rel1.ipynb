{
 "metadata": {
  "name": ""
 },
 "nbformat": 3,
 "nbformat_minor": 0,
 "worksheets": [
  {
   "cells": [
    {
     "cell_type": "heading",
     "level": 1,
     "metadata": {},
     "source": [
      "Home Work n\u25e63: Decision Trees"
     ]
    },
    {
     "cell_type": "heading",
     "level": 2,
     "metadata": {},
     "source": [
      "Problem 1: Decision tree on the Titanic dataset - Using WECKA and/or Python"
     ]
    },
    {
     "cell_type": "heading",
     "level": 3,
     "metadata": {},
     "source": [
      "Using Wecka and Python report the statistics about each feature"
     ]
    },
    {
     "cell_type": "heading",
     "level": 4,
     "metadata": {},
     "source": [
      "I have tried to use Python and Wecka interchangablly for the first part of the assignment.  This would give the evaluator an appreciation of the work done before the second version of the assignment was released.  I have specifically referenced the Wecka portion where the Wecka tool was used.  Wecka tool automatically most of the work.  "
     ]
    },
    {
     "cell_type": "heading",
     "level": 3,
     "metadata": {},
     "source": [
      "Initializing requiered libraries for all solutions"
     ]
    },
    {
     "cell_type": "code",
     "collapsed": false,
     "input": [
      "import numpy as np\n",
      "import pandas as pd\n",
      "import pandas.tools.rplot as rplot\n",
      "import pylab as pl\n",
      "import matplotlib as mpl\n",
      "import matplotlib.pyplot as plt\n",
      "import math"
     ],
     "language": "python",
     "metadata": {},
     "outputs": [],
     "prompt_number": 447
    },
    {
     "cell_type": "heading",
     "level": 3,
     "metadata": {},
     "source": [
      "Titanic1 dataset records 4 features for 2,201 examples. Open the dataset in Python. Read the description of the data."
     ]
    },
    {
     "cell_type": "heading",
     "level": 3,
     "metadata": {},
     "source": [
      "1.1 Extract Data"
     ]
    },
    {
     "cell_type": "code",
     "collapsed": false,
     "input": [
      "#set data source path\n",
      "path = '/Users/mayank/Dropbox/Columbia University/Machine Learning/Lecture Notes/hw3/Titanic1.csv'\n",
      "#set column names as the data doesn't have headers\n",
      "headers = ['Class', 'Age', 'Sex', 'Survived']  \n",
      "#get the data, specify that there are no headers as the default will read first row as headers\n",
      "getData = pd.read_csv(path, header=0, names=headers)"
     ],
     "language": "python",
     "metadata": {},
     "outputs": [],
     "prompt_number": 449
    },
    {
     "cell_type": "code",
     "collapsed": false,
     "input": [
      "#confirm data extration\n",
      "getData.head()"
     ],
     "language": "python",
     "metadata": {},
     "outputs": [
      {
       "metadata": {},
       "output_type": "pyout",
       "prompt_number": 450,
       "text": [
        "  Class    Age   Sex Survived\n",
        "0   1st  adult  male      yes\n",
        "1   1st  adult  male      yes\n",
        "2   1st  adult  male      yes\n",
        "3   1st  adult  male      yes\n",
        "4   1st  adult  male      yes\n",
        "\n",
        "[5 rows x 4 columns]"
       ]
      }
     ],
     "prompt_number": 450
    },
    {
     "cell_type": "heading",
     "level": 3,
     "metadata": {},
     "source": [
      "Using Wecka - Explore the dataset"
     ]
    },
    {
     "cell_type": "raw",
     "metadata": {},
     "source": [
      "Dataset\t    Name\t    Type\tMissing \tDistinct\tUnique\tLabels\tCounts\n",
      "Titanic1\tclass\t    Nominal\t0\t        4\t        0\t    1\t    325\n",
      "Titanic1\tclass\t    Nominal\t0\t        4\t        0\t    2\t    285\n",
      "Titanic1\tclass\t    Nominal\t0\t        4\t        0\t    3\t    706\n",
      "Titanic1\tclass\t    Nominal\t0\t        4\t        0\t    crew\t885\n",
      "Titanic1\tage\t        Nominal\t0\t        2\t        0\t    adult\t2092\n",
      "Titanic1\tage\t        Nominal\t0\t        2\t        0\t    child\t109\n",
      "Titanic1\tsex\t        Nominal\t0\t        2\t        0\t    male\t1731\n",
      "Titanic1\tsex\t        Nominal\t0\t        2\t        0\t    female\t470\n",
      "Titanic1\tsurvived\tNominal\t0\t        2\t        0\t    yes\t    711\n",
      "Titanic1\tsurvived\tNominal\t0\t        2\t        0\t    no\t    1490"
     ]
    },
    {
     "cell_type": "heading",
     "level": 3,
     "metadata": {},
     "source": [
      "Explore the dataset - Understand data statistics using Python"
     ]
    },
    {
     "cell_type": "code",
     "collapsed": false,
     "input": [
      "getData.groupby(\"Survived\").describe()"
     ],
     "language": "python",
     "metadata": {},
     "outputs": [
      {
       "metadata": {},
       "output_type": "pyout",
       "prompt_number": 451,
       "text": [
        "                Class    Age   Sex Survived\n",
        "Survived                                   \n",
        "no       count   1490   1490  1490     1490\n",
        "         unique     4      2     2        1\n",
        "         top     crew  adult  male       no\n",
        "         freq     673   1438  1364     1490\n",
        "yes      count    711    711   711      711\n",
        "         unique     4      2     2        1\n",
        "         top     crew  adult  male      yes\n",
        "         freq     212    654   367      711\n",
        "\n",
        "[8 rows x 4 columns]"
       ]
      }
     ],
     "prompt_number": 451
    },
    {
     "cell_type": "code",
     "collapsed": false,
     "input": [
      "getData.groupby(\"Age\").describe()"
     ],
     "language": "python",
     "metadata": {},
     "outputs": [
      {
       "metadata": {},
       "output_type": "pyout",
       "prompt_number": 452,
       "text": [
        "             Class    Age   Sex Survived\n",
        "Age                                     \n",
        "adult count   2092   2092  2092     2092\n",
        "      unique     4      1     2        2\n",
        "      top     crew  adult  male       no\n",
        "      freq     885   2092  1667     1438\n",
        "child count    109    109   109      109\n",
        "      unique     3      1     2        2\n",
        "      top      3rd  child  male      yes\n",
        "      freq      79    109    64       57\n",
        "\n",
        "[8 rows x 4 columns]"
       ]
      }
     ],
     "prompt_number": 452
    },
    {
     "cell_type": "code",
     "collapsed": false,
     "input": [
      "getData.groupby(\"Sex\").describe()"
     ],
     "language": "python",
     "metadata": {},
     "outputs": [
      {
       "metadata": {},
       "output_type": "pyout",
       "prompt_number": 453,
       "text": [
        "              Class    Age     Sex Survived\n",
        "Sex                                        \n",
        "female count    470    470     470      470\n",
        "       unique     4      2       1        2\n",
        "       top      3rd  adult  female      yes\n",
        "       freq     196    425     470      344\n",
        "male   count   1731   1731    1731     1731\n",
        "       unique     4      2       1        2\n",
        "       top     crew  adult    male       no\n",
        "       freq     862   1667    1731     1364\n",
        "\n",
        "[8 rows x 4 columns]"
       ]
      }
     ],
     "prompt_number": 453
    },
    {
     "cell_type": "code",
     "collapsed": false,
     "input": [
      "getData.groupby(\"Class\").describe()"
     ],
     "language": "python",
     "metadata": {},
     "outputs": [
      {
       "metadata": {},
       "output_type": "pyout",
       "prompt_number": 454,
       "text": [
        "             Class    Age   Sex Survived\n",
        "Class                                   \n",
        "1st   count    325    325   325      325\n",
        "      unique     1      2     2        2\n",
        "      top      1st  adult  male      yes\n",
        "      freq     325    319   180      203\n",
        "2nd   count    285    285   285      285\n",
        "      unique     1      2     2        2\n",
        "      top      2nd  adult  male       no\n",
        "      freq     285    261   179      167\n",
        "3rd   count    706    706   706      706\n",
        "      unique     1      2     2        2\n",
        "      top      3rd  adult  male       no\n",
        "      freq     706    627   510      528\n",
        "crew  count    885    885   885      885\n",
        "      unique     1      1     2        2\n",
        "      top     crew  adult  male       no\n",
        "      freq     885    885   862      673\n",
        "\n",
        "[16 rows x 4 columns]"
       ]
      }
     ],
     "prompt_number": 454
    },
    {
     "cell_type": "heading",
     "level": 3,
     "metadata": {},
     "source": [
      "1.2 Using WECKA: Split the dataset into 66% Training and 34% Test.  Run the decision tree algorithm J48 and report the tree obtained, number of nodes and leaves."
     ]
    },
    {
     "cell_type": "raw",
     "metadata": {},
     "source": [
      "=== Run information ===\n",
      "\n",
      "Scheme:weka.classifiers.trees.J48 -C 0.25 -M 2\n",
      "Relation:     Titanic1\n",
      "Instances:    2201\n",
      "Attributes:   4\n",
      "              class\n",
      "              Age\n",
      "              Sex\n",
      "              Survived\n",
      "Test mode:split 66.0% train, remainder test\n",
      "\n",
      "J48 pruned tree\n",
      "------------------\n",
      "\n",
      "Sex = male\n",
      "|   class = 1st\n",
      "|   |   Age = adult: no (175.0/57.0)\n",
      "|   |   Age = child: yes (5.0)\n",
      "|   class = 2nd\n",
      "|   |   Age = adult: no (168.0/14.0)\n",
      "|   |   Age = child: yes (11.0)\n",
      "|   class = 3rd: no (510.0/88.0)\n",
      "|   class = crew: no (862.0/192.0)\n",
      "Sex = female\n",
      "|   class = 1st: yes (145.0/4.0)\n",
      "|   class = 2nd: yes (106.0/13.0)\n",
      "|   class = 3rd: no (196.0/90.0)\n",
      "|   class = crew: yes (23.0/3.0)\n"
     ]
    },
    {
     "cell_type": "markdown",
     "metadata": {},
     "source": [
      "Number of Leaves  : \t10\n",
      "\n",
      "Size of the tree : \t15\n",
      "\n",
      "There are 5 nodes in the tree.  1. Root, 2. Sex-Male, 3. Sex-Female, 4. Class-1st and 5. Class-2nd."
     ]
    },
    {
     "cell_type": "heading",
     "level": 3,
     "metadata": {},
     "source": [
      "1.2b Using Python - Split the data into a training and test set"
     ]
    },
    {
     "cell_type": "raw",
     "metadata": {},
     "source": [
      "Keep 66% for training and 34% for testing. Make sure the proportion positive to negative is maintained similar in training and testing."
     ]
    },
    {
     "cell_type": "code",
     "collapsed": false,
     "input": [
      "survivedTrue = getData.ix[getData['Survived'] == 'yes']\n",
      "survivedTrue\n",
      "survivedTrueArray = survivedTrue.values\n",
      "print survivedTrueArray\n",
      "countTrue = len(survivedTrueArray)\n",
      "countTrue"
     ],
     "language": "python",
     "metadata": {},
     "outputs": [
      {
       "output_type": "stream",
       "stream": "stdout",
       "text": [
        "[['1st' 'adult' 'male' 'yes']\n",
        " ['1st' 'adult' 'male' 'yes']\n",
        " ['1st' 'adult' 'male' 'yes']\n",
        " ..., \n",
        " ['crew' 'adult' 'female' 'yes']\n",
        " ['crew' 'adult' 'female' 'yes']\n",
        " ['crew' 'adult' 'female' 'yes']]\n"
       ]
      },
      {
       "metadata": {},
       "output_type": "pyout",
       "prompt_number": 457,
       "text": [
        "711"
       ]
      }
     ],
     "prompt_number": 457
    },
    {
     "cell_type": "code",
     "collapsed": false,
     "input": [
      "survivedFalse = getData.ix[getData['Survived'] == 'no']\n",
      "survivedFalseArray = survivedFalse.values\n",
      "print survivedFalseArray\n",
      "countFalse = len(survivedFalseArray)\n",
      "countFalse"
     ],
     "language": "python",
     "metadata": {},
     "outputs": [
      {
       "output_type": "stream",
       "stream": "stdout",
       "text": [
        "[['1st' 'adult' 'male' 'no']\n",
        " ['1st' 'adult' 'male' 'no']\n",
        " ['1st' 'adult' 'male' 'no']\n",
        " ..., \n",
        " ['crew' 'adult' 'female' 'no']\n",
        " ['crew' 'adult' 'female' 'no']\n",
        " ['crew' 'adult' 'female' 'no']]\n"
       ]
      },
      {
       "metadata": {},
       "output_type": "pyout",
       "prompt_number": 458,
       "text": [
        "1490"
       ]
      }
     ],
     "prompt_number": 458
    },
    {
     "cell_type": "code",
     "collapsed": false,
     "input": [
      "# calulate row count for 66% 'yes' records\n",
      "x = round(.66*(countTrue))\n",
      "print x\n",
      "# calulate row count for 66% 'no' records\n",
      "y = round(.66*(countFalse))\n",
      "print y"
     ],
     "language": "python",
     "metadata": {},
     "outputs": [
      {
       "output_type": "stream",
       "stream": "stdout",
       "text": [
        "469.0\n",
        "983.0\n"
       ]
      }
     ],
     "prompt_number": 459
    },
    {
     "cell_type": "code",
     "collapsed": false,
     "input": [
      "trainTrue = survivedTrueArray[:(x)]\n",
      "#print trainTrue\n",
      "len(trainTrue)\n",
      "\n",
      "trainFalse = survivedFalseArray[:y]\n",
      "#print trainFalse\n",
      "len(trainFalse)\n",
      "\n",
      "train = np.concatenate((trainTrue, trainFalse),0)\n",
      "len(train)"
     ],
     "language": "python",
     "metadata": {},
     "outputs": [
      {
       "metadata": {},
       "output_type": "pyout",
       "prompt_number": 460,
       "text": [
        "1452"
       ]
      }
     ],
     "prompt_number": 460
    },
    {
     "cell_type": "code",
     "collapsed": false,
     "input": [
      "testTrue = survivedTrueArray[:(countTrue-x)]\n",
      "#print testTrue\n",
      "len(testTrue)\n",
      "\n",
      "testFalse = survivedFalseArray[:(countFalse-y)]\n",
      "#print testFalse\n",
      "len(testFalse)\n",
      "\n",
      "test = np.concatenate((testTrue, testFalse),0)\n",
      "len(test)"
     ],
     "language": "python",
     "metadata": {},
     "outputs": [
      {
       "metadata": {},
       "output_type": "pyout",
       "prompt_number": 461,
       "text": [
        "749"
       ]
      }
     ],
     "prompt_number": 461
    },
    {
     "cell_type": "code",
     "collapsed": false,
     "input": [
      "column_names = ['Class', 'Age', 'Sex', 'Survived']\n",
      "train = pd.DataFrame(train, columns=column_names)\n",
      "train.ix[train['Survived'] == 'yes']"
     ],
     "language": "python",
     "metadata": {},
     "outputs": [
      {
       "metadata": {},
       "output_type": "pyout",
       "prompt_number": 462,
       "text": [
        "   Class    Age   Sex Survived\n",
        "0    1st  adult  male      yes\n",
        "1    1st  adult  male      yes\n",
        "2    1st  adult  male      yes\n",
        "3    1st  adult  male      yes\n",
        "4    1st  adult  male      yes\n",
        "5    1st  adult  male      yes\n",
        "6    1st  adult  male      yes\n",
        "7    1st  adult  male      yes\n",
        "8    1st  adult  male      yes\n",
        "9    1st  adult  male      yes\n",
        "10   1st  adult  male      yes\n",
        "11   1st  adult  male      yes\n",
        "12   1st  adult  male      yes\n",
        "13   1st  adult  male      yes\n",
        "14   1st  adult  male      yes\n",
        "15   1st  adult  male      yes\n",
        "16   1st  adult  male      yes\n",
        "17   1st  adult  male      yes\n",
        "18   1st  adult  male      yes\n",
        "19   1st  adult  male      yes\n",
        "20   1st  adult  male      yes\n",
        "21   1st  adult  male      yes\n",
        "22   1st  adult  male      yes\n",
        "23   1st  adult  male      yes\n",
        "24   1st  adult  male      yes\n",
        "     ...    ...   ...      ...\n",
        "\n",
        "[469 rows x 4 columns]"
       ]
      }
     ],
     "prompt_number": 462
    },
    {
     "cell_type": "code",
     "collapsed": false,
     "input": [
      "test = pd.DataFrame(test, columns=column_names)\n",
      "test.ix[test['Survived'] == 'yes']"
     ],
     "language": "python",
     "metadata": {},
     "outputs": [
      {
       "metadata": {},
       "output_type": "pyout",
       "prompt_number": 463,
       "text": [
        "   Class    Age   Sex Survived\n",
        "0    1st  adult  male      yes\n",
        "1    1st  adult  male      yes\n",
        "2    1st  adult  male      yes\n",
        "3    1st  adult  male      yes\n",
        "4    1st  adult  male      yes\n",
        "5    1st  adult  male      yes\n",
        "6    1st  adult  male      yes\n",
        "7    1st  adult  male      yes\n",
        "8    1st  adult  male      yes\n",
        "9    1st  adult  male      yes\n",
        "10   1st  adult  male      yes\n",
        "11   1st  adult  male      yes\n",
        "12   1st  adult  male      yes\n",
        "13   1st  adult  male      yes\n",
        "14   1st  adult  male      yes\n",
        "15   1st  adult  male      yes\n",
        "16   1st  adult  male      yes\n",
        "17   1st  adult  male      yes\n",
        "18   1st  adult  male      yes\n",
        "19   1st  adult  male      yes\n",
        "20   1st  adult  male      yes\n",
        "21   1st  adult  male      yes\n",
        "22   1st  adult  male      yes\n",
        "23   1st  adult  male      yes\n",
        "24   1st  adult  male      yes\n",
        "     ...    ...   ...      ...\n",
        "\n",
        "[242 rows x 4 columns]"
       ]
      }
     ],
     "prompt_number": 463
    },
    {
     "cell_type": "heading",
     "level": 3,
     "metadata": {},
     "source": [
      "1.3 Why is the Wecka alogorithm called J48 instead of C 4.5"
     ]
    },
    {
     "cell_type": "raw",
     "metadata": {},
     "source": [
      "The algorithm is implimented using Java.  The J in the name comes form the Java reference.  It uses the last opensource version of the C45 code (which was c4.8 before it become commercial with version C5.0). The 48 refrence is form the last open source version of the C45 alogorithm.  "
     ]
    },
    {
     "cell_type": "heading",
     "level": 3,
     "metadata": {},
     "source": [
      "1.4 Translate the tree into a set of rules of the form: If condition then expression"
     ]
    },
    {
     "cell_type": "raw",
     "metadata": {},
     "source": [
      "if Sex = male\n",
      "  if class = 1st\n",
      "     if Age = adult\n",
      "        then survived = no \n",
      "     else if Age = child\n",
      "        then survived = yes \n",
      "   else if class = 2nd\n",
      "     if Age = adult\n",
      "        then survived = no \n",
      "     else if Age = child\n",
      "        then survived = yes \n",
      "   else if class = 3rd\n",
      "     survived = no \n",
      "   else if class = crew\n",
      "     survived =  no \n",
      "else if Sex = female\n",
      "   if class = 1st\n",
      "    then survived = yes \n",
      "   else if class = 2nd\n",
      "    then survived =  yes \n",
      "   else if class = 3rd\n",
      "    then survived = no \n",
      "   else if class = crew\n",
      "    then survived = yes"
     ]
    },
    {
     "cell_type": "heading",
     "level": 3,
     "metadata": {},
     "source": [
      "1.5 Report the performance of the decision tree on the test data"
     ]
    },
    {
     "cell_type": "raw",
     "metadata": {},
     "source": [
      "=== Evaluation on test split ===\n",
      "\n",
      "=== Confusion Matrix ===\n",
      "\n",
      "   a   b   <-- classified as\n",
      "  80 165 |   a = yes\n",
      "   5 498 |   b = no \n",
      "         \n",
      "\n",
      "=== Summary ===\n",
      "\n",
      "Correctly Classified Instances         578               77.2727 %\n",
      "Incorrectly Classified Instances       170               22.7273 %\n",
      "Total Number of Instances              748     \n",
      "\n",
      "=== Detailed Accuracy By Class ===\n",
      "\n",
      "               TP Rate   FP Rate   Precision   Recall  F-Measure   ROC Area  Class\n",
      "                 0.327     0.01       0.941     0.327     0.485      0.703    yes\n",
      "                 0.99      0.673      0.751     0.99      0.854      0.703    no\n",
      "Weighted Avg.    0.773     0.456      0.813     0.773     0.733      0.703"
     ]
    },
    {
     "cell_type": "heading",
     "level": 3,
     "metadata": {},
     "source": [
      "1.6 Explain what each of these measures represent"
     ]
    },
    {
     "cell_type": "raw",
     "metadata": {},
     "source": [
      "Confusion matrix:  Captures the performance of the model on a dataset.  The diagnol values capture the output where the model correctly labels the instance.  The value off the diagnol capture the incorrectly assigned labels (errors).  \n",
      " \n",
      "                                            Actual Label\t\n",
      "                                        Positive\tNegative\n",
      "Predicted Label\tPositive\tTrue Positive (TP)=80 \tFalse Positive (FP)=5\n",
      "                Negative\tFalse Negative (FN)=165\tTrue Negative (TN)=498\n",
      "\n",
      "Calculating the statistics for the whole dataset usin gth eformiulae in the exercise:\n",
      "               \n",
      "Accuracy:  Captures the proportion at which the model predicts a label correctly (degree of closeness) for the dataset. \n",
      "Accuracy = (TP+TN)/(TP+TN+FP+FN) = 578/748=.77\n",
      "               \n",
      "Precision:  Captures the proportion of correct positives form all positive predictions returned\n",
      "Precision = TP/(TP+FP) = 80/85=.94\n",
      "\n",
      "Recall:  Recall rate is the proportion of correctly predicted positive label returned from all positive labels in the dataset.\n",
      "Recall = TP/(TP+FN)=80/245=.32\n",
      "\n",
      "F-measure: It is a statistic that captures the models accuracy measured as a proportion of precision and recall\n",
      "F = 2*(P X R/(P+R))=2(.30/1.26)=.476"
     ]
    },
    {
     "cell_type": "heading",
     "level": 3,
     "metadata": {},
     "source": [
      "1.7 Re-build the decision tree, but this time using a 10-fold cross validation"
     ]
    },
    {
     "cell_type": "raw",
     "metadata": {},
     "source": [
      "=== Run information ===\n",
      "\n",
      "Scheme:weka.classifiers.trees.J48 -C 0.25 -M 2\n",
      "Relation:     Titanic1\n",
      "Instances:    2201\n",
      "Attributes:   4\n",
      "              class\n",
      "              Age\n",
      "              Sex\n",
      "              Survived\n",
      "Test mode:10-fold cross-validation\n",
      "\n",
      "=== Classifier model (full training set) ===\n",
      "\n",
      "J48 pruned tree\n",
      "------------------\n",
      "\n",
      "Sex = male\n",
      "|   class = 1st\n",
      "|   |   Age = adult: no (175.0/57.0)\n",
      "|   |   Age = child: yes (5.0)\n",
      "|   class = 2nd\n",
      "|   |   Age = adult: no (168.0/14.0)\n",
      "|   |   Age = child: yes (11.0)\n",
      "|   class = 3rd: no (510.0/88.0)\n",
      "|   class = crew: no (862.0/192.0)\n",
      "Sex = female\n",
      "|   class = 1st: yes (145.0/4.0)\n",
      "|   class = 2nd: yes (106.0/13.0)\n",
      "|   class = 3rd: no (196.0/90.0)\n",
      "|   class = crew: yes (23.0/3.0)\n",
      "\n",
      "Number of Leaves  : \t10\n",
      "\n",
      "Size of the tree : \t15\n"
     ]
    },
    {
     "cell_type": "heading",
     "level": 3,
     "metadata": {},
     "source": [
      "1.8 Compare the decision tree and measures obtained in both cases (cross-validation or train-test)."
     ]
    },
    {
     "cell_type": "code",
     "collapsed": false,
     "input": [
      "=== Evaluation on test split | Test mode:split 66.0% train, remainder test ===\n",
      "=== Confusion Matrix ===\n",
      "\n",
      "   a   b   <-- classified as\n",
      "  80 165 |   a = yes\n",
      "   5 498 |   b = no \n",
      "=== Summary ===\n",
      "\n",
      "Correctly Classified Instances         578               77.2727 %\n",
      "Incorrectly Classified Instances       170               22.7273 %\n",
      "Total Number of Instances              748     \n",
      "\n",
      "=== Detailed Accuracy By Class ===\n",
      "\n",
      "               TP Rate   FP Rate   Precision   Recall  F-Measure   ROC Area  Class\n",
      "                 0.327     0.01       0.941     0.327     0.485      0.703    yes\n",
      "                 0.99      0.673      0.751     0.99      0.854      0.703    no\n",
      "Weighted Avg.    0.773     0.456      0.813     0.773     0.733      0.703\n",
      "\n",
      "\n",
      "\n",
      "=== Evaluation on test split | Test mode:Stratified cross-validation ===\n",
      "=== Confusion Matrix ===\n",
      "\n",
      "    a    b   <-- classified as\n",
      "  267  444 |    a = yes\n",
      "   20 1470 |    b = no\n",
      "=== Summary ===\n",
      "\n",
      "Correctly Classified Instances        1737               78.9187 %\n",
      "Incorrectly Classified Instances       464               21.0813 %\n",
      "Total Number of Instances             2201     \n",
      "\n",
      "=== Detailed Accuracy By Class ===\n",
      "\n",
      "               TP Rate   FP Rate   Precision   Recall  F-Measure   ROC Area  Class\n",
      "                 0.376     0.013      0.93      0.376     0.535      0.746    yes\n",
      "                 0.987     0.624      0.768     0.987     0.864      0.746    no\n",
      "Weighted Avg.    0.789     0.427      0.82      0.789     0.758      0.746\n",
      "    "
     ],
     "language": "python",
     "metadata": {},
     "outputs": []
    },
    {
     "cell_type": "raw",
     "metadata": {},
     "source": [
      "The cross validation increased the correctly classified instances by ~1.5%.  The True Positives increased.  The precision relaxed a bit but resulted in an increased Recall rate and F1 measure.  "
     ]
    },
    {
     "cell_type": "heading",
     "level": 3,
     "metadata": {},
     "source": [
      "1.9 Re-build the decision tree with binary splitting with a 10-fold cross validation. Compare the number of nodes and leaves obtained as compared to the tree obtained in 9"
     ]
    },
    {
     "cell_type": "raw",
     "metadata": {},
     "source": [
      "=== Run information ===\n",
      "\n",
      "Scheme:weka.classifiers.trees.J48 -C 0.25 -B -M 2\n",
      "Relation:     Titanic1\n",
      "Instances:    2201\n",
      "Attributes:   4\n",
      "              class\n",
      "              Age\n",
      "              Sex\n",
      "              Survived\n",
      "Test mode:10-fold cross-validation WITH BINARY SPLIT = TRUE\n",
      "\n",
      "=== Classifier model (full training set) ===\n",
      "\n",
      "J48 pruned tree\n",
      "------------------\n",
      "\n",
      "Sex = male\n",
      "|   Age = adult: no (1667.0/338.0)\n",
      "|   Age != adult\n",
      "|   |   class = 3rd: no (48.0/13.0)\n",
      "|   |   class != 3rd: yes (16.0)\n",
      "Sex != male\n",
      "|   class = 3rd: no (196.0/90.0)\n",
      "|   class != 3rd: yes (274.0/20.0)\n",
      "\n",
      "Number of Leaves  : \t5 as comapred to 10 without the binary split\n",
      "\n",
      "Size of the tree : \t9 as compared to 15 without the binary split"
     ]
    },
    {
     "cell_type": "heading",
     "level": 3,
     "metadata": {},
     "source": [
      "1.10 Suppose we forgot to eliminate the feature PassengerId (unique id per passenger) and derived a decision tree.  "
     ]
    },
    {
     "cell_type": "heading",
     "level": 4,
     "metadata": {},
     "source": [
      "(a) In general, what do you think is the impact fn features of this kind on the decision tree building?"
     ]
    },
    {
     "cell_type": "raw",
     "metadata": {},
     "source": [
      "As this featue wont result in any meaningfull information gain, such fake features will not be picked up the decision tree in subsequent pass.  "
     ]
    },
    {
     "cell_type": "heading",
     "level": 4,
     "metadata": {},
     "source": [
      "(b) Add a fictive feature PassengerId that takes values p1, p2, \u00b7 \u00b7 \u00b7 , p2201 and re-build the decision tree. Did J48 handle this \u201cspurious\u201d feature properly?"
     ]
    },
    {
     "cell_type": "raw",
     "metadata": {},
     "source": [
      "Yes J48 handled the PassengerID feature appropriatly.  There was no change in the models overall performance.  Surprisingly the processing time went down a little.  "
     ]
    },
    {
     "cell_type": "code",
     "collapsed": false,
     "input": [
      "=== Run information ===\n",
      "\n",
      "Scheme:weka.classifiers.trees.J48 -C 0.25 -M 2\n",
      "Relation:     Titanic1withID\n",
      "Instances:    2201\n",
      "Attributes:   5\n",
      "              PassengerId \n",
      "              class\n",
      "              Age\n",
      "              Sex\n",
      "              Survived\n",
      "Test mode:10-fold cross-validation\n",
      "\n",
      "=== Classifier model (full training set) ===\n",
      "\n",
      "J48 pruned tree\n",
      "------------------\n",
      "\n",
      "Sex = male\n",
      "|   class = 1st\n",
      "|   |   Age = adult: no (175.0/57.0)\n",
      "|   |   Age = child: yes (5.0)\n",
      "|   class = 2nd\n",
      "|   |   Age = adult: no (168.0/14.0)\n",
      "|   |   Age = child: yes (11.0)\n",
      "|   class = 3rd: no (510.0/88.0)\n",
      "|   class = crew: no (862.0/192.0)\n",
      "Sex = female\n",
      "|   class = 1st: yes (145.0/4.0)\n",
      "|   class = 2nd: yes (106.0/13.0)\n",
      "|   class = 3rd: no (196.0/90.0)\n",
      "|   class = crew: yes (23.0/3.0)\n",
      "\n",
      "Number of Leaves  : \t10\n",
      "\n",
      "Size of the tree : \t15\n",
      "\n",
      "\n",
      "Time taken to build model: 0 seconds\n",
      "\n",
      "=== Stratified cross-validation ===\n",
      "=== Summary ===\n",
      "\n",
      "Correctly Classified Instances        1737               78.9187 %\n",
      "Incorrectly Classified Instances       464               21.0813 %\n",
      "Kappa statistic                          0.429 \n",
      "Mean absolute error                      0.312 \n",
      "Root mean squared error                  0.3959\n",
      "Relative absolute error                 71.3177 %\n",
      "Root relative squared error             84.6545 %\n",
      "Total Number of Instances             2201     \n",
      "\n",
      "=== Detailed Accuracy By Class ===\n",
      "\n",
      "               TP Rate   FP Rate   Precision   Recall  F-Measure   ROC Area  Class\n",
      "                 0.376     0.013      0.93      0.376     0.535      0.746    yes\n",
      "                 0.987     0.624      0.768     0.987     0.864      0.746    no\n",
      "Weighted Avg.    0.789     0.427      0.82      0.789     0.758      0.746\n",
      "\n",
      "=== Confusion Matrix ===\n",
      "\n",
      "    a    b   <-- classified as\n",
      "  267  444 |    a = yes\n",
      "   20 1470 |    b = no\n"
     ],
     "language": "python",
     "metadata": {},
     "outputs": []
    },
    {
     "cell_type": "heading",
     "level": 4,
     "metadata": {},
     "source": [
      "(c) How do you think the gain was modified to alleviate the influence of this category of features? "
     ]
    },
    {
     "cell_type": "code",
     "collapsed": false,
     "input": [],
     "language": "python",
     "metadata": {},
     "outputs": []
    },
    {
     "cell_type": "heading",
     "level": 2,
     "metadata": {},
     "source": [
      "Part II: Titanic2 dataset"
     ]
    },
    {
     "cell_type": "heading",
     "level": 3,
     "metadata": {},
     "source": [
      "2.1 to 2.4 Download dataset, process in Excel, load in Wecka, observe statistics"
     ]
    },
    {
     "cell_type": "markdown",
     "metadata": {},
     "source": [
      "1. Download train.csv and test.csv from Kaggle: http://www.kaggle.com/c/titanic-gettingStarted.\n",
      "\n",
      "2. In Excel, remove the feature \u2019Name\u2019 from train.csv and test.csv (it has commas that will disturb opening\n",
      "the files in weka). Name the new files, train_noname.csv and test_noname.csv.\n",
      "\n",
      "3. Open the file train noname.csv in weka. Check the weka preprocessing tab and report the statistics about each feature.\n",
      "\n",
      "4. Assess the \u201cmissingness\u201d of the features in this dataset as provided in the tab preprocessing."
     ]
    },
    {
     "cell_type": "raw",
     "metadata": {},
     "source": [
      "Dataset\t    Name\t    Type\tMissing \tDistinct\tUnique\n",
      "Titanic2\tpassengerid\tNumeric\t0\t        891\t        891\n",
      "Titanic2\tsurvived\tNumeric\t0\t        2\t        0\n",
      "Titanic2\tPclass\t    Numeric\t0\t        3\t        0\n",
      "Titanic2\tsex\t        Nominal\t0\t        2\t        0\n",
      "Titanic2\tage\t        Numeric\t177 (20%)\t88\t        16\n",
      "Titanic2\tSIbSp\t    Numeric\t0\t        7\t        0\n",
      "Titanic2\tParch\t    Numeric\t0\t        7\t        1\n",
      "Titanic2\tTicket\t    Nominal\t0\t        681\t        547\n",
      "Titanic2\tFare\t    Numeric\t0\t        248\t        97\n",
      "Titanic2\tCabin\t    Nominal\t687 (77%)\t147\t        101\n",
      "Titanic2\tEmbarked\tNominal\t2\t        3\t        0\n",
      "\n",
      "The features Age and Cabin have the most missing values.  "
     ]
    },
    {
     "cell_type": "heading",
     "level": 3,
     "metadata": {},
     "source": [
      "2.5. Keep only the features: Pclass, Sex, Age, SibSp, Parch, Fare, Embarked and the label Survived"
     ]
    },
    {
     "cell_type": "raw",
     "metadata": {},
     "source": [
      "I had to manually process this step as Wecka's discretize filter was applying to all the features.  I have named this file train_processed.csv and test_processed.csv\n",
      "1) remove the 3 unused features in both train and test \n",
      "2) move the Survived feature column to the last column of your both data sets \n",
      "3) make the Survived feature in the train data set categorical  \n",
      "4) Enter default/dummy vales for the test.csv file for the Survived feature making it categorical (all no).\n",
      "5) Open test.csv in the preprocessor and then save the file and name it test_processed_noname_weka keeping the arff extension.\n",
      "6) Do the same for train.csv creating train_processed_noname_weka.arff.\n",
      "7) Open the arff file in tex editor. The @attribute Embarked {Q,S,C} was sorted differently than in the test file (@attribute Embarked {S,C,Q} ) and the @attribute Survived in test file where I had defaulted to 'no' had @attribute Survived {no} instead of {no,yes}. Corrected these two issues"
     ]
    },
    {
     "cell_type": "heading",
     "level": 3,
     "metadata": {},
     "source": [
      "2.6. Turn the label \u2019Survived\u2019 into a categorical feature.  Save the file in weka and name it train_processed_noname_weka.csv."
     ]
    },
    {
     "cell_type": "heading",
     "level": 3,
     "metadata": {},
     "source": [
      "2.7. Run J48 on the new dataset and report the new tree."
     ]
    },
    {
     "cell_type": "raw",
     "metadata": {},
     "source": [
      "=== Run information ===\n",
      "\n",
      "Scheme:weka.classifiers.trees.J48 -C 0.25 -M 2\n",
      "Relation:     train_processed\n",
      "Instances:    891\n",
      "Attributes:   8\n",
      "              Pclass\n",
      "              Sex\n",
      "              Age\n",
      "              SibSp\n",
      "              Parch\n",
      "              Fare\n",
      "              Embarked\n",
      "              Survived\n",
      "Test mode:evaluate on training data\n",
      "\n",
      "=== Classifier model (full training set) ===\n",
      "\n",
      "J48 pruned tree\n",
      "------------------\n",
      "\n",
      "Sex = male\n",
      "|   Pclass <= 1\n",
      "|   |   Fare <= 26: no (10.0)\n",
      "|   |   Fare > 26\n",
      "|   |   |   Age <= 53\n",
      "|   |   |   |   Fare <= 27: yes (12.56/1.78)\n",
      "|   |   |   |   Fare > 27\n",
      "|   |   |   |   |   Parch <= 1: no (67.68/25.12)\n",
      "|   |   |   |   |   Parch > 1\n",
      "|   |   |   |   |   |   Fare <= 164.8667: yes (5.0)\n",
      "|   |   |   |   |   |   Fare > 164.8667: no (2.0)\n",
      "|   |   |   Age > 53: no (24.76/4.11)\n",
      "|   Pclass > 1\n",
      "|   |   Age <= 9\n",
      "|   |   |   SibSp <= 2\n",
      "|   |   |   |   Parch <= 0: no (8.1/0.77)\n",
      "|   |   |   |   Parch > 0: yes (16.26/0.09)\n",
      "|   |   |   SibSp > 2: no (14.43/1.0)\n",
      "|   |   Age > 9: no (416.22/46.06)\n",
      "Sex = female\n",
      "|   Pclass <= 2: yes (170.0/9.0)\n",
      "|   Pclass > 2\n",
      "|   |   Fare <= 23.25\n",
      "|   |   |   Embarked = Q\n",
      "|   |   |   |   Parch <= 0\n",
      "|   |   |   |   |   Fare <= 7.65: no (2.0)\n",
      "|   |   |   |   |   Fare > 7.65: yes (27.0/4.0)\n",
      "|   |   |   |   Parch > 0: no (2.0)\n",
      "|   |   |   Embarked = S\n",
      "|   |   |   |   Parch <= 0: no (45.0/20.0)\n",
      "|   |   |   |   Parch > 0\n",
      "|   |   |   |   |   Parch <= 1\n",
      "|   |   |   |   |   |   SibSp <= 2: yes (10.0/3.0)\n",
      "|   |   |   |   |   |   SibSp > 2: no (2.0)\n",
      "|   |   |   |   |   Parch > 1\n",
      "|   |   |   |   |   |   Age <= 28: yes (4.0)\n",
      "|   |   |   |   |   |   Age > 28: no (2.0)\n",
      "|   |   |   Embarked = C\n",
      "|   |   |   |   Fare <= 15.2458\n",
      "|   |   |   |   |   Fare <= 13.8625: yes (6.0)\n",
      "|   |   |   |   |   Fare > 13.8625: no (10.0/2.0)\n",
      "|   |   |   |   Fare > 15.2458: yes (7.0)\n",
      "|   |   Fare > 23.25: no (27.0/3.0)\n",
      "\n",
      "Number of Leaves  : \t23\n",
      "\n",
      "Size of the tree : \t44\n"
     ]
    },
    {
     "cell_type": "heading",
     "level": 3,
     "metadata": {},
     "source": [
      "2.8. Open the test set test_noname.csv and redo the preprocessing steps in 5) and 6). Save this file in weka and name it test_processed_noname_weka.csv."
     ]
    },
    {
     "cell_type": "heading",
     "level": 3,
     "metadata": {},
     "source": [
      "2.9. Go back to the tree obtained on the training and test it on test_processed_noname_weka.csv. Does the new tree have a better classification power than the trees obtained in Part I? compare numerically the classification measures."
     ]
    },
    {
     "cell_type": "raw",
     "metadata": {},
     "source": [
      "I defaulted dummy vales for Survived feature in the test.csv file as all 'no'.  May be thisis distorting the performance of the model.  The percentage of correct classified instances has reduced by roughly 10%.  However, the model performs better on the Kaggle training set as compared to the training set in Problem 1.    "
     ]
    },
    {
     "cell_type": "raw",
     "metadata": {},
     "source": [
      "=== Evaluation on KAGGLE test set ===\n",
      "=== Summary ===\n",
      "\n",
      "Correctly Classified Instances         289               69.1388 %\n",
      "Incorrectly Classified Instances       129               30.8612 %\n",
      "Total Number of Instances              418     \n",
      "\n",
      "=== Detailed Accuracy By Class ===\n",
      "\n",
      "               TP Rate   FP Rate   Precision   Recall  F-Measure   ROC Area  Class\n",
      "                 0.691     0          1         0.691     0.818      ?        no\n",
      "                 0         0.309      0         0         0          ?        yes\n",
      "Weighted Avg.    0.691     0          1         0.691     0.818      0    \n",
      "\n",
      "=== Confusion Matrix ===\n",
      "\n",
      "   a   b   <-- classified as\n",
      " 289 129 |   a = no\n",
      "   0   0 |   b = yes\n",
      "    \n"
     ]
    },
    {
     "cell_type": "heading",
     "level": 4,
     "metadata": {},
     "source": [
      "The performance of the algorithm against the training dataset in Problem 1:"
     ]
    },
    {
     "cell_type": "raw",
     "metadata": {},
     "source": [
      "=== Evaluation on PROBLEM 1 test split | Test mode:split 66.0% train, remainder test ===\n",
      "=== Confusion Matrix ===\n",
      "\n",
      "   a   b   <-- classified as\n",
      "  80 165 |   a = yes\n",
      "   5 498 |   b = no \n",
      "=== Summary ===\n",
      "\n",
      "Correctly Classified Instances         578               77.2727 %\n",
      "Incorrectly Classified Instances       170               22.7273 %\n",
      "Total Number of Instances              748     \n",
      "\n",
      "=== Detailed Accuracy By Class ===\n",
      "\n",
      "               TP Rate   FP Rate   Precision   Recall  F-Measure   ROC Area  Class\n",
      "                 0.327     0.01       0.941     0.327     0.485      0.703    yes\n",
      "                 0.99      0.673      0.751     0.99      0.854      0.703    no\n",
      "Weighted Avg.    0.773     0.456      0.813     0.773     0.733      0.703\n",
      "\n",
      "\n",
      "\n",
      "=== Evaluation on PROBLEM 1 test split | Test mode:Stratified cross-validation ===\n",
      "=== Confusion Matrix ===\n",
      "\n",
      "    a    b   <-- classified as\n",
      "  267  444 |    a = yes\n",
      "   20 1470 |    b = no\n",
      "=== Summary ===\n",
      "\n",
      "Correctly Classified Instances        1737               78.9187 %\n",
      "Incorrectly Classified Instances       464               21.0813 %\n",
      "Total Number of Instances             2201     \n",
      "\n",
      "=== Detailed Accuracy By Class ===\n",
      "\n",
      "               TP Rate   FP Rate   Precision   Recall  F-Measure   ROC Area  Class\n",
      "                 0.376     0.013      0.93      0.376     0.535      0.746    yes\n",
      "                 0.987     0.624      0.768     0.987     0.864      0.746    no\n",
      "Weighted Avg.    0.789     0.427      0.82      0.789     0.758      0.746"
     ]
    }
   ],
   "metadata": {}
  }
 ]
}