{
 "metadata": {
  "name": ""
 },
 "nbformat": 3,
 "nbformat_minor": 0,
 "worksheets": [
  {
   "cells": [
    {
     "cell_type": "heading",
     "level": 1,
     "metadata": {},
     "source": [
      "Home Work n\u25e63: Decision Trees"
     ]
    },
    {
     "cell_type": "heading",
     "level": 2,
     "metadata": {},
     "source": [
      "Problem 1: Decision tree on the Titanic dataset - Using WECKA and/or Python"
     ]
    },
    {
     "cell_type": "heading",
     "level": 3,
     "metadata": {},
     "source": [
      "Using Wecka and Python report the statistics about each feature"
     ]
    },
    {
     "cell_type": "heading",
     "level": 4,
     "metadata": {},
     "source": [
      "I have tried to use Python and Wecka interchangablly for this assignment.  This would give the evaluator an appreciation of the work done before the second version of the assignment was released.  I have specifically referenced the Wecka portion where the Wecka tool was used.  Wecka tool automatically most of the work.  "
     ]
    },
    {
     "cell_type": "heading",
     "level": 2,
     "metadata": {},
     "source": [
      "Problem 1: Decision tree on the Titanic dataset"
     ]
    },
    {
     "cell_type": "heading",
     "level": 3,
     "metadata": {},
     "source": [
      "Initializing requiered libraries for all solutions"
     ]
    },
    {
     "cell_type": "code",
     "collapsed": false,
     "input": [
      "import numpy as np\n",
      "import pandas as pd\n",
      "import pandas.tools.rplot as rplot\n",
      "import pylab as pl\n",
      "import matplotlib as mpl\n",
      "import matplotlib.pyplot as plt\n",
      "import math"
     ],
     "language": "python",
     "metadata": {},
     "outputs": [],
     "prompt_number": 447
    },
    {
     "cell_type": "heading",
     "level": 3,
     "metadata": {},
     "source": [
      "Initialize iPython hooks to be able to embed plots inline in the document"
     ]
    },
    {
     "cell_type": "code",
     "collapsed": false,
     "input": [
      "%matplotlib inline \n",
      "pd.set_option('display.notebook_repr_html', False)\n",
      "pd.set_option('display.max_columns', 20)\n",
      "pd.set_option('display.max_rows', 25)"
     ],
     "language": "python",
     "metadata": {},
     "outputs": [],
     "prompt_number": 448
    },
    {
     "cell_type": "heading",
     "level": 2,
     "metadata": {},
     "source": [
      "Problem 1: Titanic1 dataset"
     ]
    },
    {
     "cell_type": "markdown",
     "metadata": {},
     "source": [
      "Titanic1 dataset records 4 features for 2,201 examples. \n",
      "\n",
      "Open the dataset in Python. Read the description of the data."
     ]
    },
    {
     "cell_type": "heading",
     "level": 3,
     "metadata": {},
     "source": [
      "1.1 Extract Data"
     ]
    },
    {
     "cell_type": "code",
     "collapsed": false,
     "input": [
      "#set data source path\n",
      "path = '/Users/mayank/Dropbox/Columbia University/Machine Learning/Lecture Notes/hw3/Titanic1.csv'\n",
      "#set column names as the data doesn't have headers\n",
      "headers = ['Class', 'Age', 'Sex', 'Survived']  \n",
      "#get the data, specify that there are no headers as the default will read first row as headers\n",
      "getData = pd.read_csv(path, header=0, names=headers)"
     ],
     "language": "python",
     "metadata": {},
     "outputs": [],
     "prompt_number": 449
    },
    {
     "cell_type": "code",
     "collapsed": false,
     "input": [
      "#confirm data extration\n",
      "getData.head()"
     ],
     "language": "python",
     "metadata": {},
     "outputs": [
      {
       "metadata": {},
       "output_type": "pyout",
       "prompt_number": 450,
       "text": [
        "  Class    Age   Sex Survived\n",
        "0   1st  adult  male      yes\n",
        "1   1st  adult  male      yes\n",
        "2   1st  adult  male      yes\n",
        "3   1st  adult  male      yes\n",
        "4   1st  adult  male      yes\n",
        "\n",
        "[5 rows x 4 columns]"
       ]
      }
     ],
     "prompt_number": 450
    },
    {
     "cell_type": "heading",
     "level": 3,
     "metadata": {},
     "source": [
      "Explore the dataset - Understand data statistics using Python"
     ]
    },
    {
     "cell_type": "code",
     "collapsed": false,
     "input": [
      "getData.groupby(\"Survived\").describe()"
     ],
     "language": "python",
     "metadata": {},
     "outputs": [
      {
       "metadata": {},
       "output_type": "pyout",
       "prompt_number": 451,
       "text": [
        "                Class    Age   Sex Survived\n",
        "Survived                                   \n",
        "no       count   1490   1490  1490     1490\n",
        "         unique     4      2     2        1\n",
        "         top     crew  adult  male       no\n",
        "         freq     673   1438  1364     1490\n",
        "yes      count    711    711   711      711\n",
        "         unique     4      2     2        1\n",
        "         top     crew  adult  male      yes\n",
        "         freq     212    654   367      711\n",
        "\n",
        "[8 rows x 4 columns]"
       ]
      }
     ],
     "prompt_number": 451
    },
    {
     "cell_type": "code",
     "collapsed": false,
     "input": [
      "getData.groupby(\"Age\").describe()"
     ],
     "language": "python",
     "metadata": {},
     "outputs": [
      {
       "metadata": {},
       "output_type": "pyout",
       "prompt_number": 452,
       "text": [
        "             Class    Age   Sex Survived\n",
        "Age                                     \n",
        "adult count   2092   2092  2092     2092\n",
        "      unique     4      1     2        2\n",
        "      top     crew  adult  male       no\n",
        "      freq     885   2092  1667     1438\n",
        "child count    109    109   109      109\n",
        "      unique     3      1     2        2\n",
        "      top      3rd  child  male      yes\n",
        "      freq      79    109    64       57\n",
        "\n",
        "[8 rows x 4 columns]"
       ]
      }
     ],
     "prompt_number": 452
    },
    {
     "cell_type": "code",
     "collapsed": false,
     "input": [
      "getData.groupby(\"Sex\").describe()"
     ],
     "language": "python",
     "metadata": {},
     "outputs": [
      {
       "metadata": {},
       "output_type": "pyout",
       "prompt_number": 453,
       "text": [
        "              Class    Age     Sex Survived\n",
        "Sex                                        \n",
        "female count    470    470     470      470\n",
        "       unique     4      2       1        2\n",
        "       top      3rd  adult  female      yes\n",
        "       freq     196    425     470      344\n",
        "male   count   1731   1731    1731     1731\n",
        "       unique     4      2       1        2\n",
        "       top     crew  adult    male       no\n",
        "       freq     862   1667    1731     1364\n",
        "\n",
        "[8 rows x 4 columns]"
       ]
      }
     ],
     "prompt_number": 453
    },
    {
     "cell_type": "code",
     "collapsed": false,
     "input": [
      "getData.groupby(\"Class\").describe()"
     ],
     "language": "python",
     "metadata": {},
     "outputs": [
      {
       "metadata": {},
       "output_type": "pyout",
       "prompt_number": 454,
       "text": [
        "             Class    Age   Sex Survived\n",
        "Class                                   \n",
        "1st   count    325    325   325      325\n",
        "      unique     1      2     2        2\n",
        "      top      1st  adult  male      yes\n",
        "      freq     325    319   180      203\n",
        "2nd   count    285    285   285      285\n",
        "      unique     1      2     2        2\n",
        "      top      2nd  adult  male       no\n",
        "      freq     285    261   179      167\n",
        "3rd   count    706    706   706      706\n",
        "      unique     1      2     2        2\n",
        "      top      3rd  adult  male       no\n",
        "      freq     706    627   510      528\n",
        "crew  count    885    885   885      885\n",
        "      unique     1      1     2        2\n",
        "      top     crew  adult  male       no\n",
        "      freq     885    885   862      673\n",
        "\n",
        "[16 rows x 4 columns]"
       ]
      }
     ],
     "prompt_number": 454
    },
    {
     "cell_type": "heading",
     "level": 3,
     "metadata": {},
     "source": [
      "Using Wecka - Explore the dataset - Visualize the output"
     ]
    },
    {
     "cell_type": "markdown",
     "metadata": {},
     "source": [
      "Visually explore the data using the Wecka tool.  The output is saved [HERE](https://github.com/mayankmisra/mayankmisra.github.io/blob/rel-0.2/assets/Wecka-Titanic1-Statistics-1.png)"
     ]
    },
    {
     "cell_type": "code",
     "collapsed": false,
     "input": [],
     "language": "python",
     "metadata": {},
     "outputs": []
    },
    {
     "cell_type": "heading",
     "level": 3,
     "metadata": {},
     "source": [
      "1.2 Using Python - Split the data into a training and test set"
     ]
    },
    {
     "cell_type": "raw",
     "metadata": {},
     "source": [
      "Keep 66% for training and 34% for testing. Make sure the proportion positive to negative is maintained similar in training and testing."
     ]
    },
    {
     "cell_type": "code",
     "collapsed": false,
     "input": [
      "survivedTrue = getData.ix[getData['Survived'] == 'yes']\n",
      "survivedTrue\n",
      "survivedTrueArray = survivedTrue.values\n",
      "print survivedTrueArray\n",
      "countTrue = len(survivedTrueArray)\n",
      "countTrue"
     ],
     "language": "python",
     "metadata": {},
     "outputs": [
      {
       "output_type": "stream",
       "stream": "stdout",
       "text": [
        "[['1st' 'adult' 'male' 'yes']\n",
        " ['1st' 'adult' 'male' 'yes']\n",
        " ['1st' 'adult' 'male' 'yes']\n",
        " ..., \n",
        " ['crew' 'adult' 'female' 'yes']\n",
        " ['crew' 'adult' 'female' 'yes']\n",
        " ['crew' 'adult' 'female' 'yes']]\n"
       ]
      },
      {
       "metadata": {},
       "output_type": "pyout",
       "prompt_number": 457,
       "text": [
        "711"
       ]
      }
     ],
     "prompt_number": 457
    },
    {
     "cell_type": "code",
     "collapsed": false,
     "input": [
      "survivedFalse = getData.ix[getData['Survived'] == 'no']\n",
      "survivedFalseArray = survivedFalse.values\n",
      "print survivedFalseArray\n",
      "countFalse = len(survivedFalseArray)\n",
      "countFalse"
     ],
     "language": "python",
     "metadata": {},
     "outputs": [
      {
       "output_type": "stream",
       "stream": "stdout",
       "text": [
        "[['1st' 'adult' 'male' 'no']\n",
        " ['1st' 'adult' 'male' 'no']\n",
        " ['1st' 'adult' 'male' 'no']\n",
        " ..., \n",
        " ['crew' 'adult' 'female' 'no']\n",
        " ['crew' 'adult' 'female' 'no']\n",
        " ['crew' 'adult' 'female' 'no']]\n"
       ]
      },
      {
       "metadata": {},
       "output_type": "pyout",
       "prompt_number": 458,
       "text": [
        "1490"
       ]
      }
     ],
     "prompt_number": 458
    },
    {
     "cell_type": "code",
     "collapsed": false,
     "input": [
      "# calulate row count for 66% 'yes' records\n",
      "x = round(.66*(countTrue))\n",
      "print x\n",
      "# calulate row count for 66% 'no' records\n",
      "y = round(.66*(countFalse))\n",
      "print y"
     ],
     "language": "python",
     "metadata": {},
     "outputs": [
      {
       "output_type": "stream",
       "stream": "stdout",
       "text": [
        "469.0\n",
        "983.0\n"
       ]
      }
     ],
     "prompt_number": 459
    },
    {
     "cell_type": "code",
     "collapsed": false,
     "input": [
      "trainTrue = survivedTrueArray[:(x)]\n",
      "#print trainTrue\n",
      "len(trainTrue)\n",
      "\n",
      "trainFalse = survivedFalseArray[:y]\n",
      "#print trainFalse\n",
      "len(trainFalse)\n",
      "\n",
      "train = np.concatenate((trainTrue, trainFalse),0)\n",
      "len(train)"
     ],
     "language": "python",
     "metadata": {},
     "outputs": [
      {
       "metadata": {},
       "output_type": "pyout",
       "prompt_number": 460,
       "text": [
        "1452"
       ]
      }
     ],
     "prompt_number": 460
    },
    {
     "cell_type": "code",
     "collapsed": false,
     "input": [
      "testTrue = survivedTrueArray[:(countTrue-x)]\n",
      "#print testTrue\n",
      "len(testTrue)\n",
      "\n",
      "testFalse = survivedFalseArray[:(countFalse-y)]\n",
      "#print testFalse\n",
      "len(testFalse)\n",
      "\n",
      "test = np.concatenate((testTrue, testFalse),0)\n",
      "len(test)"
     ],
     "language": "python",
     "metadata": {},
     "outputs": [
      {
       "metadata": {},
       "output_type": "pyout",
       "prompt_number": 461,
       "text": [
        "749"
       ]
      }
     ],
     "prompt_number": 461
    },
    {
     "cell_type": "code",
     "collapsed": false,
     "input": [
      "column_names = ['Class', 'Age', 'Sex', 'Survived']\n",
      "train = pd.DataFrame(train, columns=column_names)\n",
      "train.ix[train['Survived'] == 'yes']"
     ],
     "language": "python",
     "metadata": {},
     "outputs": [
      {
       "metadata": {},
       "output_type": "pyout",
       "prompt_number": 462,
       "text": [
        "   Class    Age   Sex Survived\n",
        "0    1st  adult  male      yes\n",
        "1    1st  adult  male      yes\n",
        "2    1st  adult  male      yes\n",
        "3    1st  adult  male      yes\n",
        "4    1st  adult  male      yes\n",
        "5    1st  adult  male      yes\n",
        "6    1st  adult  male      yes\n",
        "7    1st  adult  male      yes\n",
        "8    1st  adult  male      yes\n",
        "9    1st  adult  male      yes\n",
        "10   1st  adult  male      yes\n",
        "11   1st  adult  male      yes\n",
        "12   1st  adult  male      yes\n",
        "13   1st  adult  male      yes\n",
        "14   1st  adult  male      yes\n",
        "15   1st  adult  male      yes\n",
        "16   1st  adult  male      yes\n",
        "17   1st  adult  male      yes\n",
        "18   1st  adult  male      yes\n",
        "19   1st  adult  male      yes\n",
        "20   1st  adult  male      yes\n",
        "21   1st  adult  male      yes\n",
        "22   1st  adult  male      yes\n",
        "23   1st  adult  male      yes\n",
        "24   1st  adult  male      yes\n",
        "     ...    ...   ...      ...\n",
        "\n",
        "[469 rows x 4 columns]"
       ]
      }
     ],
     "prompt_number": 462
    },
    {
     "cell_type": "code",
     "collapsed": false,
     "input": [
      "test = pd.DataFrame(test, columns=column_names)\n",
      "test.ix[test['Survived'] == 'yes']"
     ],
     "language": "python",
     "metadata": {},
     "outputs": [
      {
       "metadata": {},
       "output_type": "pyout",
       "prompt_number": 463,
       "text": [
        "   Class    Age   Sex Survived\n",
        "0    1st  adult  male      yes\n",
        "1    1st  adult  male      yes\n",
        "2    1st  adult  male      yes\n",
        "3    1st  adult  male      yes\n",
        "4    1st  adult  male      yes\n",
        "5    1st  adult  male      yes\n",
        "6    1st  adult  male      yes\n",
        "7    1st  adult  male      yes\n",
        "8    1st  adult  male      yes\n",
        "9    1st  adult  male      yes\n",
        "10   1st  adult  male      yes\n",
        "11   1st  adult  male      yes\n",
        "12   1st  adult  male      yes\n",
        "13   1st  adult  male      yes\n",
        "14   1st  adult  male      yes\n",
        "15   1st  adult  male      yes\n",
        "16   1st  adult  male      yes\n",
        "17   1st  adult  male      yes\n",
        "18   1st  adult  male      yes\n",
        "19   1st  adult  male      yes\n",
        "20   1st  adult  male      yes\n",
        "21   1st  adult  male      yes\n",
        "22   1st  adult  male      yes\n",
        "23   1st  adult  male      yes\n",
        "24   1st  adult  male      yes\n",
        "     ...    ...   ...      ...\n",
        "\n",
        "[242 rows x 4 columns]"
       ]
      }
     ],
     "prompt_number": 463
    },
    {
     "cell_type": "heading",
     "level": 3,
     "metadata": {},
     "source": [
      "1.2b Using WECKA: Run the decision tree algorithm J48 and report the tree obtained, number of nodes and leaves."
     ]
    },
    {
     "cell_type": "raw",
     "metadata": {},
     "source": [
      "J48 pruned tree\n",
      "------------------\n",
      "\n",
      "Sex = male\n",
      "|   class = 1st\n",
      "|   |   Age = adult: no (175.0/57.0)\n",
      "|   |   Age = child: yes (5.0)\n",
      "|   class = 2nd\n",
      "|   |   Age = adult: no (168.0/14.0)\n",
      "|   |   Age = child: yes (11.0)\n",
      "|   class = 3rd: no (510.0/88.0)\n",
      "|   class = crew: no (862.0/192.0)\n",
      "Sex = female\n",
      "|   class = 1st: yes (145.0/4.0)\n",
      "|   class = 2nd: yes (106.0/13.0)\n",
      "|   class = 3rd: no (196.0/90.0)\n",
      "|   class = crew: yes (23.0/3.0)\n",
      "\n",
      "Number of Leaves  : \t10\n",
      "\n",
      "Size of the tree : \t15\n",
      "\n",
      "There are 5 nodes in the tree.  1. Root, 2. Sex-Male, 3. Sex-Female, 4. Class-1st and 5. Class-2nd.  \n"
     ]
    },
    {
     "cell_type": "heading",
     "level": 3,
     "metadata": {},
     "source": [
      "1.3 Why is the Wecka alogorithm called J48 instead of C 4.5"
     ]
    },
    {
     "cell_type": "raw",
     "metadata": {},
     "source": [
      "The algorithm is implimented using Java.  The J in the name comes form the Java reference.  It uses the last opensource version of the C45 code (which was c4.8 before it become commercial with version C5.0). The 48 refrence is form the last open source version of the C45 alogorithm.  "
     ]
    },
    {
     "cell_type": "heading",
     "level": 3,
     "metadata": {},
     "source": [
      "1.4 Translate the tree into a set of rules of the form: If condition then expression"
     ]
    },
    {
     "cell_type": "raw",
     "metadata": {},
     "source": [
      "if Sex = male\n",
      "  if class = 1st\n",
      "     Age = adult: no \n",
      "     Age = child: yes \n",
      "   class = 2nd\n",
      "     Age = adult: no \n",
      "     Age = child: yes \n",
      "   class = 3rd: no \n",
      "  class = crew: no \n",
      "if Sex = female\n",
      "   class = 1st: yes \n",
      "   class = 2nd: yes \n",
      "   class = 3rd: no \n",
      "   class = crew: yes"
     ]
    },
    {
     "cell_type": "heading",
     "level": 3,
     "metadata": {},
     "source": [
      "1.3  Rrecursive python function decision tree "
     ]
    },
    {
     "cell_type": "code",
     "collapsed": false,
     "input": [
      "#clculate entropy for the root\n",
      "#count numbers of rows that have yes/no for the train datset\n",
      "trainTotalCount = float(len(train))\n",
      "print trainTotalCount\n",
      "\n",
      "trainTrueCount = float(len(train.ix[train['Survived'] == 'yes']))\n",
      "print trainTrueCount\n",
      "probTrainTrue = round((trainTrueCount/trainTotalCount)*100)/100\n",
      "print probTrainTrue\n",
      "\n",
      "trainFalseCount = float(len(train.ix[train['Survived'] == 'no']))\n",
      "print trainFalseCount\n",
      "probTrainFalse = round((trainFalseCount/trainTotalCount)*100)/100\n",
      "print probTrainFalse\n",
      "\n",
      "entropyRoot = -probTrainTrue * math.log((probTrainTrue), 2) - probTrainFalse * math.log((probTrainFalse), 2)\n",
      "entropyRoot"
     ],
     "language": "python",
     "metadata": {},
     "outputs": [
      {
       "output_type": "stream",
       "stream": "stdout",
       "text": [
        "1452.0\n",
        "469.0\n",
        "0.32\n",
        "983.0\n",
        "0.68\n"
       ]
      },
      {
       "metadata": {},
       "output_type": "pyout",
       "prompt_number": 464,
       "text": [
        "0.904381457724494"
       ]
      }
     ],
     "prompt_number": 464
    },
    {
     "cell_type": "code",
     "collapsed": false,
     "input": [
      "#clculate entropy for the Class - Type 1st\n",
      "#count numbers of rows that have yes/no for feature 'Class' where Class value is 1st\n",
      "\n",
      "trainClassValues = train.Class.unique()\n",
      "print trainClassValues\n",
      "\n",
      "trainClass1st = train.ix[train['Class'] == '1st']\n",
      "#print trainClass\n",
      "\n",
      "trainClass1stTotal = float(len(trainClass1st))\n",
      "print trainClass1stTotal\n",
      "\n",
      "trainClass1stTrue = float(len(trainClass1st.ix[trainClass1st['Survived'] == 'yes']))\n",
      "print trainClass1stTrue\n",
      "\n",
      "probTrainClass1stTrue = round((trainClass1stTrue/trainClass1stTotal)*100)/100\n",
      "print probTrainClass1stTrue\n",
      "\n",
      "trainClass1stFalse = float(len(trainClass1st.ix[trainClass1st['Survived'] == 'no']))\n",
      "print trainClass1stFalse\n",
      "\n",
      "probTrainClass1stFalse = round((trainClass1stFalse/trainClass1stTotal)*100)/100\n",
      "print probTrainClass1stFalse\n",
      "\n",
      "entropyClass1st = -probTrainClass1stTrue * math.log((probTrainClass1stTrue), 2) - probTrainClass1stFalse * math.log((probTrainClass1stFalse), 2)\n",
      "entropyClass1st"
     ],
     "language": "python",
     "metadata": {},
     "outputs": [
      {
       "output_type": "stream",
       "stream": "stdout",
       "text": [
        "['1st' '2nd' '3rd' 'crew']\n",
        "325.0\n",
        "203.0\n",
        "0.62\n",
        "122.0\n",
        "0.38\n"
       ]
      },
      {
       "metadata": {},
       "output_type": "pyout",
       "prompt_number": 465,
       "text": [
        "0.9580420222262995"
       ]
      }
     ],
     "prompt_number": 465
    },
    {
     "cell_type": "code",
     "collapsed": false,
     "input": [
      "#clculate entropy for the Class - Type 2nd\n",
      "#count numbers of rows that have yes/no for feature 'Class' where Class value is 2nd\n",
      "\n",
      "trainClass2nd = train.ix[train['Class'] == '2nd']\n",
      "#print trainClass\n",
      "\n",
      "trainClass2ndTotal = float(len(trainClass2nd))\n",
      "print trainClass2ndTotal\n",
      "\n",
      "trainClass2ndTrue = float(len(trainClass2nd.ix[trainClass2nd['Survived'] == 'yes']))\n",
      "print trainClass2ndTrue\n",
      "\n",
      "probTrainClass2ndTrue = round((trainClass2ndTrue/trainClass2ndTotal)*100)/100\n",
      "print probTrainClass2ndTrue\n",
      "\n",
      "trainClass2ndFalse = float(len(trainClass2nd.ix[trainClass2nd['Survived'] == 'no']))\n",
      "print trainClass2ndFalse\n",
      "\n",
      "probTrainClass2ndFalse = round((trainClass2ndFalse/trainClass2ndTotal)*100)/100\n",
      "print probTrainClass2ndFalse\n",
      "\n",
      "entropyClass2nd = -probTrainClass2ndTrue * math.log((probTrainClass2ndTrue), 2) - probTrainClass2ndFalse * math.log((probTrainClass2ndFalse), 2)\n",
      "entropyClass2nd"
     ],
     "language": "python",
     "metadata": {},
     "outputs": [
      {
       "output_type": "stream",
       "stream": "stdout",
       "text": [
        "285.0\n",
        "118.0\n",
        "0.41\n",
        "167.0\n",
        "0.59\n"
       ]
      },
      {
       "metadata": {},
       "output_type": "pyout",
       "prompt_number": 468,
       "text": [
        "0.9765004687578241"
       ]
      }
     ],
     "prompt_number": 468
    },
    {
     "cell_type": "code",
     "collapsed": false,
     "input": [
      "#clculate entropy for the Class - Type '3rd'\n",
      "#count numbers of rows that have yes/no for feature 'Class' where Class value is '3rd'\n",
      "\n",
      "trainClass3rd = train.ix[train['Class'] == '3rd']\n",
      "#print trainClass3rd\n",
      "\n",
      "trainClass3rdTotal = float(len(trainClass3rd))\n",
      "print trainClass3rdTotal\n",
      "\n",
      "trainClass3rdTrue = float(len(trainClass3rd.ix[trainClass3rd['Survived'] == 'yes']))\n",
      "print trainClass3rdTrue\n",
      "\n",
      "probTrainClass3rdTrue = round((trainClass3rdTrue/trainClass3rdTotal)*100)/100\n",
      "print probTrainClass3rdTrue\n",
      "\n",
      "trainClass3rdFalse = float(len(trainClass3rd.ix[trainClass3rd['Survived'] == 'no']))\n",
      "print trainClass3rdFalse\n",
      "\n",
      "probTrainClass3rdFalse = round((trainClass3rdFalse/trainClass3rdTotal)*100)/100\n",
      "print probTrainClass3rdFalse\n",
      "\n",
      "entropyClass3rd = -probTrainClass3rdTrue * math.log((probTrainClass3rdTrue), 2) - probTrainClass3rdFalse * math.log((probTrainClass3rdFalse), 2)\n",
      "entropyClass3rd"
     ],
     "language": "python",
     "metadata": {},
     "outputs": [
      {
       "output_type": "stream",
       "stream": "stdout",
       "text": [
        "676.0\n",
        "148.0\n",
        "0.22\n",
        "528.0\n",
        "0.78\n"
       ]
      },
      {
       "metadata": {},
       "output_type": "pyout",
       "prompt_number": 487,
       "text": [
        "0.7601675029619657"
       ]
      }
     ],
     "prompt_number": 487
    },
    {
     "cell_type": "code",
     "collapsed": false,
     "input": [
      "#clculate entropy for the Class - Type 'crew'\n",
      "#count numbers of rows that have yes/no for feature 'Class' where Class value is 'crew'\n",
      "\n",
      "trainClassCrew = train.ix[train['Class'] == 'crew']\n",
      "#print trainClassCrew\n",
      "\n",
      "trainClassCrewTotal = float(len(trainClassCrew))\n",
      "#print trainClassCrewTotal\n",
      "\n",
      "#print trainClassCrew.ix[trainClassCrew['Survived'] == 'yes']\n",
      "\n",
      "trainClassCrewTrue = float(len(trainClassCrew.ix[trainClassCrew['Survived'] == 'yes']))\n",
      "#print trainClassCrewTrue\n",
      "\n",
      "probTrainClassCrewTrue = round((trainClassCrewTrue/trainClassCrewTotal)*100)/100\n",
      "#print probTrainClassCrewTrue\n",
      "\n",
      "trainClassCrewFalse = float(len(trainClassCrew.ix[trainClassCrew['Survived'] == 'no']))\n",
      "print trainClassCrewFalse\n",
      "\n",
      "probTrainClassCrewFalse = round((trainClassCrewFalse/trainClassCrewTotal)*100)/100\n",
      "print probTrainClassCrewFalse\n",
      "\n",
      "###Fix log0 and log1 based math error by if/then loop\n",
      "entropyClassCrew = -probTrainClassCrewTrue * math.log((probTrainClassCrewTrue), 2) - probTrainClassCrewFalse * math.log((probTrainClassCrewFalse), 2)\n",
      "entropyClassCrew"
     ],
     "language": "python",
     "metadata": {},
     "outputs": [
      {
       "ename": "ValueError",
       "evalue": "math domain error",
       "output_type": "pyerr",
       "traceback": [
        "\u001b[0;31m---------------------------------------------------------------------------\u001b[0m\n\u001b[0;31mValueError\u001b[0m                                Traceback (most recent call last)",
        "\u001b[0;32m<ipython-input-488-8a36aa0bd9de>\u001b[0m in \u001b[0;36m<module>\u001b[0;34m()\u001b[0m\n\u001b[1;32m     23\u001b[0m \u001b[0;34m\u001b[0m\u001b[0m\n\u001b[1;32m     24\u001b[0m \u001b[0;31m###Fix log0 and log1 based math error by if/then loop\u001b[0m\u001b[0;34m\u001b[0m\u001b[0;34m\u001b[0m\u001b[0m\n\u001b[0;32m---> 25\u001b[0;31m \u001b[0mentropyClassCrew\u001b[0m \u001b[0;34m=\u001b[0m \u001b[0;34m-\u001b[0m\u001b[0mprobTrainClassCrewTrue\u001b[0m \u001b[0;34m*\u001b[0m \u001b[0mmath\u001b[0m\u001b[0;34m.\u001b[0m\u001b[0mlog\u001b[0m\u001b[0;34m(\u001b[0m\u001b[0;34m(\u001b[0m\u001b[0mprobTrainClassCrewTrue\u001b[0m\u001b[0;34m)\u001b[0m\u001b[0;34m,\u001b[0m \u001b[0;36m2\u001b[0m\u001b[0;34m)\u001b[0m \u001b[0;34m-\u001b[0m \u001b[0mprobTrainClassCrewFalse\u001b[0m \u001b[0;34m*\u001b[0m \u001b[0mmath\u001b[0m\u001b[0;34m.\u001b[0m\u001b[0mlog\u001b[0m\u001b[0;34m(\u001b[0m\u001b[0;34m(\u001b[0m\u001b[0mprobTrainClassCrewFalse\u001b[0m\u001b[0;34m)\u001b[0m\u001b[0;34m,\u001b[0m \u001b[0;36m2\u001b[0m\u001b[0;34m)\u001b[0m\u001b[0;34m\u001b[0m\u001b[0m\n\u001b[0m\u001b[1;32m     26\u001b[0m \u001b[0mentropyClassCrew\u001b[0m\u001b[0;34m\u001b[0m\u001b[0m\n",
        "\u001b[0;31mValueError\u001b[0m: math domain error"
       ]
      },
      {
       "output_type": "stream",
       "stream": "stdout",
       "text": [
        "166.0\n",
        "1.0\n"
       ]
      }
     ],
     "prompt_number": 488
    }
   ],
   "metadata": {}
  }
 ]
}